{
 "cells": [
  {
   "cell_type": "code",
   "execution_count": 27,
   "metadata": {},
   "outputs": [
    {
     "data": {
      "text/plain": [
       "<File file id=file-QUiA9xHnCwZ3uB9x3Ao3cPjI at 0x1871c7ce630> JSON: {\n",
       "  \"object\": \"file\",\n",
       "  \"id\": \"file-QUiA9xHnCwZ3uB9x3Ao3cPjI\",\n",
       "  \"purpose\": \"fine-tune\",\n",
       "  \"filename\": \"file\",\n",
       "  \"bytes\": 124889,\n",
       "  \"created_at\": 1694605152,\n",
       "  \"status\": \"uploaded\",\n",
       "  \"status_details\": null\n",
       "}"
      ]
     },
     "execution_count": 27,
     "metadata": {},
     "output_type": "execute_result"
    }
   ],
   "source": [
    "import os\n",
    "import openai\n",
    "openai.api_key = \"YOUR API KEY\"\n",
    "openai.File.create(\n",
    "  file=open(\"train.jsonl\", \"rb\"),\n",
    "  purpose='fine-tune'\n",
    ")\n"
   ]
  },
  {
   "cell_type": "code",
   "execution_count": 2,
   "metadata": {},
   "outputs": [],
   "source": [
    "import os\n",
    "import openai\n",
    "openai.api_key = \"YOUR API KEY\""
   ]
  },
  {
   "cell_type": "code",
   "execution_count": 29,
   "metadata": {},
   "outputs": [
    {
     "name": "stdout",
     "output_type": "stream",
     "text": [
      "{\n",
      "  \"object\": \"fine_tuning.job\",\n",
      "  \"id\": \"ftjob-jN0Fk7CVQlKvkpuE5cWpeYRg\",\n",
      "  \"model\": \"gpt-3.5-turbo-0613\",\n",
      "  \"created_at\": 1694614323,\n",
      "  \"finished_at\": null,\n",
      "  \"fine_tuned_model\": null,\n",
      "  \"organization_id\": \"org-nlwuhQZu8n8oWZTV42ROE2Dj\",\n",
      "  \"result_files\": [],\n",
      "  \"status\": \"created\",\n",
      "  \"validation_file\": null,\n",
      "  \"training_file\": \"file-QUiA9xHnCwZ3uB9x3Ao3cPjI\",\n",
      "  \"hyperparameters\": {\n",
      "    \"n_epochs\": 3\n",
      "  },\n",
      "  \"trained_tokens\": null,\n",
      "  \"error\": null\n",
      "}\n"
     ]
    }
   ],
   "source": [
    "suffix_name = \"Yashika\"\n",
    "\n",
    "\n",
    "response = openai.FineTuningJob.create(\n",
    "    training_file=\"file-QUiA9xHnCwZ3uB9x3Ao3cPjI\",\n",
    "    model=\"gpt-3.5-turbo\",\n",
    "    suffix=suffix_name,\n",
    ")\n",
    "\n",
    "job_id = response[\"id\"]\n",
    "\n",
    "print(response)"
   ]
  },
  {
   "cell_type": "code",
   "execution_count": 30,
   "metadata": {},
   "outputs": [
    {
     "name": "stdout",
     "output_type": "stream",
     "text": [
      "Created fine-tuning job: ftjob-jN0Fk7CVQlKvkpuE5cWpeYRg\n",
      "Fine tuning job started\n"
     ]
    }
   ],
   "source": [
    "response = openai.FineTuningJob.list_events(id=job_id, limit=50)\n",
    "\n",
    "events = response[\"data\"]\n",
    "events.reverse()\n",
    "\n",
    "for event in events:\n",
    "    print(event[\"message\"])"
   ]
  },
  {
   "cell_type": "code",
   "execution_count": 31,
   "metadata": {},
   "outputs": [
    {
     "name": "stdout",
     "output_type": "stream",
     "text": [
      "{\n",
      "  \"object\": \"fine_tuning.job\",\n",
      "  \"id\": \"ftjob-jN0Fk7CVQlKvkpuE5cWpeYRg\",\n",
      "  \"model\": \"gpt-3.5-turbo-0613\",\n",
      "  \"created_at\": 1694614323,\n",
      "  \"finished_at\": null,\n",
      "  \"fine_tuned_model\": null,\n",
      "  \"organization_id\": \"org-nlwuhQZu8n8oWZTV42ROE2Dj\",\n",
      "  \"result_files\": [],\n",
      "  \"status\": \"running\",\n",
      "  \"validation_file\": null,\n",
      "  \"training_file\": \"file-QUiA9xHnCwZ3uB9x3Ao3cPjI\",\n",
      "  \"hyperparameters\": {\n",
      "    \"n_epochs\": 3\n",
      "  },\n",
      "  \"trained_tokens\": null,\n",
      "  \"error\": null\n",
      "}\n",
      "\n",
      "Fine-tuned model id: None\n"
     ]
    }
   ],
   "source": [
    "response = openai.FineTuningJob.retrieve(job_id)\n",
    "fine_tuned_model_id = response[\"fine_tuned_model\"]\n",
    "\n",
    "print(response)\n",
    "print(\"\\nFine-tuned model id:\", fine_tuned_model_id)"
   ]
  },
  {
   "cell_type": "code",
   "execution_count": 3,
   "metadata": {},
   "outputs": [
    {
     "name": "stdout",
     "output_type": "stream",
     "text": [
      "Hi there. What brings you here today?\n",
      "I'm sorry to hear that. I'm here for you. Talking about it might help. So, tell me why do you think you're feeling this way?\n",
      "I'm sorry to hear that. I'm here for you. Talking about it might help. So, tell me why do you think you're feeling this way?\n",
      "It's only natural to feel this way. Give yourself time to heal.\n",
      "I understand that it may feel that way right now, but i'm here for you. Talking about it might help. So, tell me why do you think you're feeling this way?\n",
      "Give yourself time to heal and seek out support from friends and family.\n",
      "You can talk to me without fear of judgement.\n",
      "I'm very sorry to hear that, but you have so much to look forward to. Please seek help by contacting: 9152987821.\n",
      "It's going to be okay. I'm here with you. You're going to be okay.\n",
      "Call me Yashika\n",
      "I'm Yashika, a Therapeutic AI Assitant designed to assist you.\n",
      "I can help you with your thoughts and feelings, give you tips and advice on how to get through what you're going through.\n",
      "That's great. I'm here to help. But keep in mind that what works for one person may not work for another. So take my advice with a grain of salt.\n",
      "First, take a deep breath and be yourself. Then, follow these steps:\n",
      "\n",
      "1. Choose the right time and place: Find a time and place where you can have a comfortable and uninterrupted conversation. Make sure both of you are in a good mood and not distracted by other things.\n",
      "\n",
      "2. Be confident: Confidence is key when asking someone out. Believe in yourself and your worth. This will make the other person more likely to say yes.\n",
      "\n",
      "3. Be clear and direct: When asking someone out, it's important to be clear and direct with your intentions. Don't beat around the bush or drop hints. State your desire to go on a date with the person and ask if they would be interested.\n",
      "\n",
      "4. Be respectful of their response: It's important to respect the other person's response, whether it's a yes or a no. If they say yes, great! Plan the date and enjoy getting to know each other better. If they say no, accept their answer gracefully and don't push the issue. It's better to be rejected than to pressure someone into a date they don't want to go on.\n",
      "\n",
      "5. Stay positive: No matter the outcome, stay positive and keep an open mind. There are plenty of other people out there, and you never know what the future holds.\n",
      "\n",
      "Remember, the most important thing is to be yourself and be genuine in your approach. Good luck!\n",
      "I hope that helps. So, what's on your mind right now?\n",
      "I'm sorry to hear that. I'm here for you. Talking about it might help. So, tell me why do you think you're feeling this way?\n",
      "I see. What else?\n",
      "I see. What else?\n"
     ]
    }
   ],
   "source": [
    "test_messages = []\n",
    "while(True):\n",
    "    user_message = input()\n",
    "    test_messages.append({\"role\": \"user\", \"content\": user_message})\n",
    "    response = openai.ChatCompletion.create(\n",
    "        model=\"ft:gpt-3.5-turbo-0613:personal::7yJAKiCC\", messages=test_messages, temperature=0, max_tokens=500\n",
    "    )\n",
    "    test_messages.append({\"role\": \"assistant\", \"content\": response[\"choices\"][0][\"message\"][\"content\"]})\n",
    "    print(response[\"choices\"][0][\"message\"][\"content\"])"
   ]
  },
  {
   "cell_type": "code",
   "execution_count": null,
   "metadata": {},
   "outputs": [],
   "source": []
  }
 ],
 "metadata": {
  "kernelspec": {
   "display_name": "Python 3",
   "language": "python",
   "name": "python3"
  },
  "language_info": {
   "codemirror_mode": {
    "name": "ipython",
    "version": 3
   },
   "file_extension": ".py",
   "mimetype": "text/x-python",
   "name": "python",
   "nbconvert_exporter": "python",
   "pygments_lexer": "ipython3",
   "version": "3.9.13"
  },
  "orig_nbformat": 4
 },
 "nbformat": 4,
 "nbformat_minor": 2
}
